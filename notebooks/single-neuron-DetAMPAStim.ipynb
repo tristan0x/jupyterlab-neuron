{
 "cells": [
  {
   "cell_type": "markdown",
   "metadata": {},
   "source": [
    "# Demonstration using NEURON + Python\n",
    "\n",
    "This jupyter notebook requires a valid installation of [NEURON](https://github.com/nrnhines/nrn) with python configured. "
   ]
  },
  {
   "cell_type": "markdown",
   "metadata": {},
   "source": [
    "### 1. Download a neuron morphology and electrical model from ModelDB\n",
    "\n",
    "This model is open source and provided by the Allen Brain Institute"
   ]
  },
  {
   "cell_type": "code",
   "execution_count": 1,
   "metadata": {},
   "outputs": [
    {
     "name": "stdout",
     "output_type": "stream",
     "text": [
      "--2017-09-26 11:31:15--  https://senselab.med.yale.edu/modeldb/eavBinDown.cshtml?o=184167&a=311&mime=application/zip\n",
      "Resolving senselab.med.yale.edu (senselab.med.yale.edu)... 128.36.64.81\n",
      "Connecting to senselab.med.yale.edu (senselab.med.yale.edu)|128.36.64.81|:443... connected.\n",
      "HTTP request sent, awaiting response... 200 OK\n",
      "Length: 227141 (222K) [application/zip]\n",
      "Saving to: ‘eavBinDown.cshtml?o=184167&a=311&mime=application%2Fzip’\n",
      "\n",
      "eavBinDown.cshtml?o 100%[===================>] 221.82K   370KB/s    in 0.6s    \n",
      "\n",
      "2017-09-26 11:31:16 (370 KB/s) - ‘eavBinDown.cshtml?o=184167&a=311&mime=application%2Fzip’ saved [227141/227141]\n",
      "\n"
     ]
    }
   ],
   "source": [
    "! wget \"https://senselab.med.yale.edu/modeldb/eavBinDown.cshtml?o=184167&a=311&mime=application/zip\""
   ]
  },
  {
   "cell_type": "code",
   "execution_count": 2,
   "metadata": {
    "collapsed": true
   },
   "outputs": [],
   "source": [
    "! mv \"eavBinDown.cshtml?o=184167&a=311&mime=application%2Fzip\" neuron.zip"
   ]
  },
  {
   "cell_type": "code",
   "execution_count": 3,
   "metadata": {},
   "outputs": [
    {
     "name": "stdout",
     "output_type": "stream",
     "text": [
      "Archive:  neuron.zip\r\n",
      "   creating: 472300877converted/\r\n",
      "  inflating: 472300877converted/readme.html  \r\n",
      "   creating: 472300877converted/modfiles/\r\n",
      "  inflating: 472300877converted/modfiles/Im.mod  \r\n",
      "  inflating: 472300877converted/modfiles/NaTa.mod  \r\n",
      "  inflating: 472300877converted/modfiles/K_P.mod  \r\n",
      "  inflating: 472300877converted/modfiles/Ca_HVA.mod  \r\n",
      "  inflating: 472300877converted/modfiles/NaTs.mod  \r\n",
      "  inflating: 472300877converted/modfiles/Kv3_1.mod  \r\n",
      "  inflating: 472300877converted/modfiles/K_T.mod  \r\n",
      "  inflating: 472300877converted/modfiles/Im_v2.mod  \r\n",
      "  inflating: 472300877converted/modfiles/Ca_LVA.mod  \r\n",
      "  inflating: 472300877converted/modfiles/Kv2like.mod  \r\n",
      "  inflating: 472300877converted/modfiles/NaV.mod  \r\n",
      "  inflating: 472300877converted/modfiles/SK.mod  \r\n",
      "  inflating: 472300877converted/modfiles/Kd.mod  \r\n",
      "  inflating: 472300877converted/modfiles/Nap.mod  \r\n",
      "  inflating: 472300877converted/modfiles/Ih.mod  \r\n",
      "  inflating: 472300877converted/modfiles/CaDynamics.mod  \r\n",
      "  inflating: 472300877converted/mosinit.py  \r\n",
      "  inflating: 472300877converted/morphology472300877.png  \r\n",
      "  inflating: 472300877converted/Scnn1a-Tg2-Cre_Ai14_IVSCC_-171062.06.02.01_470548707_m.swc  \r\n",
      "  inflating: 472300877converted/load_swc.py  \r\n",
      "  inflating: 472300877converted/neuron472300877.py  \r\n"
     ]
    }
   ],
   "source": [
    "! unzip neuron.zip"
   ]
  },
  {
   "cell_type": "code",
   "execution_count": 4,
   "metadata": {
    "collapsed": true
   },
   "outputs": [],
   "source": [
    "! mv 472300877converted AllenBrainNeuron"
   ]
  },
  {
   "cell_type": "markdown",
   "metadata": {},
   "source": [
    "### 2. Download our special synapse model\n",
    "\n",
    "This model is very likely open source. Anyways, use with care. \n",
    "\n",
    "#### To download the model, replace <user> below with your username "
   ]
  },
  {
   "cell_type": "code",
   "execution_count": 5,
   "metadata": {},
   "outputs": [
    {
     "name": "stdout",
     "output_type": "stream",
     "text": [
      "Cloning into 'neurodamus'...\n",
      "remote: Counting objects: 16285, done\u001b[K\n",
      "remote: Finding sources: 100% (16285/16285)\u001b[K\u001b[K\n",
      "remote: Total 16285 (delta 10349), reused 16185 (delta 10349)\u001b[K \n",
      "Receiving objects: 100% (16285/16285), 48.33 MiB | 14.61 MiB/s, done.\n",
      "Resolving deltas: 100% (10349/10349), done.\n",
      "Checking connectivity... done.\n"
     ]
    }
   ],
   "source": [
    "! git clone ssh://<user>@bbpcode.epfl.ch/sim/neurodamus/bbp neurodamus"
   ]
  },
  {
   "cell_type": "code",
   "execution_count": 6,
   "metadata": {
    "collapsed": true
   },
   "outputs": [],
   "source": [
    "! mv neurodamus/lib/modlib/ProbAMPANMDA_EMS.mod AllenBrainNeuron/modfiles"
   ]
  },
  {
   "cell_type": "code",
   "execution_count": 7,
   "metadata": {
    "collapsed": true
   },
   "outputs": [],
   "source": [
    "import os"
   ]
  },
  {
   "cell_type": "code",
   "execution_count": 8,
   "metadata": {
    "collapsed": true
   },
   "outputs": [],
   "source": [
    "os.chdir('AllenBrainNeuron')"
   ]
  },
  {
   "cell_type": "markdown",
   "metadata": {},
   "source": [
    "### 3. Generate ion channel and synapse C files for NEURON"
   ]
  },
  {
   "cell_type": "code",
   "execution_count": 9,
   "metadata": {},
   "outputs": [
    {
     "name": "stdout",
     "output_type": "stream",
     "text": [
      "Creating x86_64 directory for .o files.\n",
      "\n",
      "/home/cremones/sandbox/jupyter-notebook-for-Tristan/AllenBrainNeuron\n",
      "ls: cannot access 'modfiles/*.inc': No such file or directory\n",
      "modfiles/CaDynamics.mod modfiles/Ca_HVA.mod modfiles/Ca_LVA.mod modfiles/Ih.mod modfiles/Im.mod modfiles/Im_v2.mod modfiles/Kd.mod modfiles/K_P.mod modfiles/K_T.mod modfiles/Kv2like.mod modfiles/Kv3_1.mod modfiles/Nap.mod modfiles/NaTa.mod modfiles/NaTs.mod modfiles/NaV.mod modfiles/ProbAMPANMDA_EMS.mod modfiles/SK.mod\n",
      "CaDynamics.mod Ca_HVA.mod Ca_LVA.mod Ih.mod Im.mod Im_v2.mod Kd.mod K_P.mod K_T.mod Kv2like.mod Kv3_1.mod Nap.mod NaTa.mod NaTs.mod NaV.mod ProbAMPANMDA_EMS.mod SK.mod\n",
      "\"/home/cremones/soft/nrn/install/x86_64/bin/nocmodl\" CaDynamics\n",
      "Translating CaDynamics.mod into CaDynamics.c\n",
      "Thread Safe\n",
      "\"/home/cremones/soft/nrn/install/share/nrn/libtool\" --tag=CC --mode=compile mpicc -DHAVE_CONFIG_H  -I. -I.. -I\"/home/cremones/soft/nrn/install/include/nrn\" -I\"/home/cremones/soft/nrn/install/x86_64/lib\"      -g -O2 -c -o CaDynamics.lo CaDynamics.c\n",
      "libtool: compile:  mpicc -DHAVE_CONFIG_H -I. -I.. -I/home/cremones/soft/nrn/install/include/nrn -I/home/cremones/soft/nrn/install/x86_64/lib -g -O2 -c CaDynamics.c  -fPIC -DPIC -o .libs/CaDynamics.o\n",
      "\"/home/cremones/soft/nrn/install/x86_64/bin/nocmodl\" Ca_HVA\n",
      "Translating Ca_HVA.mod into Ca_HVA.c\n",
      "Thread Safe\n",
      "\"/home/cremones/soft/nrn/install/share/nrn/libtool\" --tag=CC --mode=compile mpicc -DHAVE_CONFIG_H  -I. -I.. -I\"/home/cremones/soft/nrn/install/include/nrn\" -I\"/home/cremones/soft/nrn/install/x86_64/lib\"      -g -O2 -c -o Ca_HVA.lo Ca_HVA.c\n",
      "libtool: compile:  mpicc -DHAVE_CONFIG_H -I. -I.. -I/home/cremones/soft/nrn/install/include/nrn -I/home/cremones/soft/nrn/install/x86_64/lib -g -O2 -c Ca_HVA.c  -fPIC -DPIC -o .libs/Ca_HVA.o\n",
      "\"/home/cremones/soft/nrn/install/x86_64/bin/nocmodl\" Ca_LVA\n",
      "Translating Ca_LVA.mod into Ca_LVA.c\n",
      "Thread Safe\n",
      "\"/home/cremones/soft/nrn/install/share/nrn/libtool\" --tag=CC --mode=compile mpicc -DHAVE_CONFIG_H  -I. -I.. -I\"/home/cremones/soft/nrn/install/include/nrn\" -I\"/home/cremones/soft/nrn/install/x86_64/lib\"      -g -O2 -c -o Ca_LVA.lo Ca_LVA.c\n",
      "libtool: compile:  mpicc -DHAVE_CONFIG_H -I. -I.. -I/home/cremones/soft/nrn/install/include/nrn -I/home/cremones/soft/nrn/install/x86_64/lib -g -O2 -c Ca_LVA.c  -fPIC -DPIC -o .libs/Ca_LVA.o\n",
      "\"/home/cremones/soft/nrn/install/x86_64/bin/nocmodl\" Ih\n",
      "Translating Ih.mod into Ih.c\n",
      "Thread Safe\n",
      "\"/home/cremones/soft/nrn/install/share/nrn/libtool\" --tag=CC --mode=compile mpicc -DHAVE_CONFIG_H  -I. -I.. -I\"/home/cremones/soft/nrn/install/include/nrn\" -I\"/home/cremones/soft/nrn/install/x86_64/lib\"      -g -O2 -c -o Ih.lo Ih.c\n",
      "libtool: compile:  mpicc -DHAVE_CONFIG_H -I. -I.. -I/home/cremones/soft/nrn/install/include/nrn -I/home/cremones/soft/nrn/install/x86_64/lib -g -O2 -c Ih.c  -fPIC -DPIC -o .libs/Ih.o\n",
      "\"/home/cremones/soft/nrn/install/x86_64/bin/nocmodl\" Im\n",
      "Translating Im.mod into Im.c\n",
      "Thread Safe\n",
      "\"/home/cremones/soft/nrn/install/share/nrn/libtool\" --tag=CC --mode=compile mpicc -DHAVE_CONFIG_H  -I. -I.. -I\"/home/cremones/soft/nrn/install/include/nrn\" -I\"/home/cremones/soft/nrn/install/x86_64/lib\"      -g -O2 -c -o Im.lo Im.c\n",
      "libtool: compile:  mpicc -DHAVE_CONFIG_H -I. -I.. -I/home/cremones/soft/nrn/install/include/nrn -I/home/cremones/soft/nrn/install/x86_64/lib -g -O2 -c Im.c  -fPIC -DPIC -o .libs/Im.o\n",
      "\"/home/cremones/soft/nrn/install/x86_64/bin/nocmodl\" Im_v2\n",
      "Translating Im_v2.mod into Im_v2.c\n",
      "Thread Safe\n",
      "\"/home/cremones/soft/nrn/install/share/nrn/libtool\" --tag=CC --mode=compile mpicc -DHAVE_CONFIG_H  -I. -I.. -I\"/home/cremones/soft/nrn/install/include/nrn\" -I\"/home/cremones/soft/nrn/install/x86_64/lib\"      -g -O2 -c -o Im_v2.lo Im_v2.c\n",
      "libtool: compile:  mpicc -DHAVE_CONFIG_H -I. -I.. -I/home/cremones/soft/nrn/install/include/nrn -I/home/cremones/soft/nrn/install/x86_64/lib -g -O2 -c Im_v2.c  -fPIC -DPIC -o .libs/Im_v2.o\n",
      "\"/home/cremones/soft/nrn/install/x86_64/bin/nocmodl\" Kd\n",
      "Translating Kd.mod into Kd.c\n",
      "Thread Safe\n",
      "\"/home/cremones/soft/nrn/install/share/nrn/libtool\" --tag=CC --mode=compile mpicc -DHAVE_CONFIG_H  -I. -I.. -I\"/home/cremones/soft/nrn/install/include/nrn\" -I\"/home/cremones/soft/nrn/install/x86_64/lib\"      -g -O2 -c -o Kd.lo Kd.c\n",
      "libtool: compile:  mpicc -DHAVE_CONFIG_H -I. -I.. -I/home/cremones/soft/nrn/install/include/nrn -I/home/cremones/soft/nrn/install/x86_64/lib -g -O2 -c Kd.c  -fPIC -DPIC -o .libs/Kd.o\n",
      "\"/home/cremones/soft/nrn/install/x86_64/bin/nocmodl\" K_P\n",
      "Translating K_P.mod into K_P.c\n",
      "Thread Safe\n",
      "\"/home/cremones/soft/nrn/install/share/nrn/libtool\" --tag=CC --mode=compile mpicc -DHAVE_CONFIG_H  -I. -I.. -I\"/home/cremones/soft/nrn/install/include/nrn\" -I\"/home/cremones/soft/nrn/install/x86_64/lib\"      -g -O2 -c -o K_P.lo K_P.c\n",
      "libtool: compile:  mpicc -DHAVE_CONFIG_H -I. -I.. -I/home/cremones/soft/nrn/install/include/nrn -I/home/cremones/soft/nrn/install/x86_64/lib -g -O2 -c K_P.c  -fPIC -DPIC -o .libs/K_P.o\n",
      "\"/home/cremones/soft/nrn/install/x86_64/bin/nocmodl\" K_T\n",
      "Translating K_T.mod into K_T.c\n",
      "Thread Safe\n",
      "\"/home/cremones/soft/nrn/install/share/nrn/libtool\" --tag=CC --mode=compile mpicc -DHAVE_CONFIG_H  -I. -I.. -I\"/home/cremones/soft/nrn/install/include/nrn\" -I\"/home/cremones/soft/nrn/install/x86_64/lib\"      -g -O2 -c -o K_T.lo K_T.c\n",
      "libtool: compile:  mpicc -DHAVE_CONFIG_H -I. -I.. -I/home/cremones/soft/nrn/install/include/nrn -I/home/cremones/soft/nrn/install/x86_64/lib -g -O2 -c K_T.c  -fPIC -DPIC -o .libs/K_T.o\n",
      "\"/home/cremones/soft/nrn/install/x86_64/bin/nocmodl\" Kv2like\n",
      "Translating Kv2like.mod into Kv2like.c\n",
      "Thread Safe\n",
      "\"/home/cremones/soft/nrn/install/share/nrn/libtool\" --tag=CC --mode=compile mpicc -DHAVE_CONFIG_H  -I. -I.. -I\"/home/cremones/soft/nrn/install/include/nrn\" -I\"/home/cremones/soft/nrn/install/x86_64/lib\"      -g -O2 -c -o Kv2like.lo Kv2like.c\n",
      "libtool: compile:  mpicc -DHAVE_CONFIG_H -I. -I.. -I/home/cremones/soft/nrn/install/include/nrn -I/home/cremones/soft/nrn/install/x86_64/lib -g -O2 -c Kv2like.c  -fPIC -DPIC -o .libs/Kv2like.o\n",
      "\"/home/cremones/soft/nrn/install/x86_64/bin/nocmodl\" Kv3_1\n",
      "Translating Kv3_1.mod into Kv3_1.c\n",
      "Thread Safe\n",
      "\"/home/cremones/soft/nrn/install/share/nrn/libtool\" --tag=CC --mode=compile mpicc -DHAVE_CONFIG_H  -I. -I.. -I\"/home/cremones/soft/nrn/install/include/nrn\" -I\"/home/cremones/soft/nrn/install/x86_64/lib\"      -g -O2 -c -o Kv3_1.lo Kv3_1.c\n",
      "libtool: compile:  mpicc -DHAVE_CONFIG_H -I. -I.. -I/home/cremones/soft/nrn/install/include/nrn -I/home/cremones/soft/nrn/install/x86_64/lib -g -O2 -c Kv3_1.c  -fPIC -DPIC -o .libs/Kv3_1.o\n",
      "\"/home/cremones/soft/nrn/install/x86_64/bin/nocmodl\" Nap\n",
      "Translating Nap.mod into Nap.c\n",
      "Thread Safe\n",
      "\"/home/cremones/soft/nrn/install/share/nrn/libtool\" --tag=CC --mode=compile mpicc -DHAVE_CONFIG_H  -I. -I.. -I\"/home/cremones/soft/nrn/install/include/nrn\" -I\"/home/cremones/soft/nrn/install/x86_64/lib\"      -g -O2 -c -o Nap.lo Nap.c\n",
      "libtool: compile:  mpicc -DHAVE_CONFIG_H -I. -I.. -I/home/cremones/soft/nrn/install/include/nrn -I/home/cremones/soft/nrn/install/x86_64/lib -g -O2 -c Nap.c  -fPIC -DPIC -o .libs/Nap.o\n",
      "\"/home/cremones/soft/nrn/install/x86_64/bin/nocmodl\" NaTa\n",
      "Translating NaTa.mod into NaTa.c\n",
      "Thread Safe\n",
      "\"/home/cremones/soft/nrn/install/share/nrn/libtool\" --tag=CC --mode=compile mpicc -DHAVE_CONFIG_H  -I. -I.. -I\"/home/cremones/soft/nrn/install/include/nrn\" -I\"/home/cremones/soft/nrn/install/x86_64/lib\"      -g -O2 -c -o NaTa.lo NaTa.c\n",
      "libtool: compile:  mpicc -DHAVE_CONFIG_H -I. -I.. -I/home/cremones/soft/nrn/install/include/nrn -I/home/cremones/soft/nrn/install/x86_64/lib -g -O2 -c NaTa.c  -fPIC -DPIC -o .libs/NaTa.o\n",
      "\"/home/cremones/soft/nrn/install/x86_64/bin/nocmodl\" NaTs\n",
      "Translating NaTs.mod into NaTs.c\n",
      "Thread Safe\n",
      "\"/home/cremones/soft/nrn/install/share/nrn/libtool\" --tag=CC --mode=compile mpicc -DHAVE_CONFIG_H  -I. -I.. -I\"/home/cremones/soft/nrn/install/include/nrn\" -I\"/home/cremones/soft/nrn/install/x86_64/lib\"      -g -O2 -c -o NaTs.lo NaTs.c\n",
      "libtool: compile:  mpicc -DHAVE_CONFIG_H -I. -I.. -I/home/cremones/soft/nrn/install/include/nrn -I/home/cremones/soft/nrn/install/x86_64/lib -g -O2 -c NaTs.c  -fPIC -DPIC -o .libs/NaTs.o\n",
      "\"/home/cremones/soft/nrn/install/x86_64/bin/nocmodl\" NaV\n",
      "Translating NaV.mod into NaV.c\n",
      "NEURON's CVode method ignores conservation\n",
      "Notice: LINEAR is not thread safe.\n",
      "\"/home/cremones/soft/nrn/install/share/nrn/libtool\" --tag=CC --mode=compile mpicc -DHAVE_CONFIG_H  -I. -I.. -I\"/home/cremones/soft/nrn/install/include/nrn\" -I\"/home/cremones/soft/nrn/install/x86_64/lib\"      -g -O2 -c -o NaV.lo NaV.c\n"
     ]
    },
    {
     "name": "stdout",
     "output_type": "stream",
     "text": [
      "libtool: compile:  mpicc -DHAVE_CONFIG_H -I. -I.. -I/home/cremones/soft/nrn/install/include/nrn -I/home/cremones/soft/nrn/install/x86_64/lib -g -O2 -c NaV.c  -fPIC -DPIC -o .libs/NaV.o\n",
      "\"/home/cremones/soft/nrn/install/x86_64/bin/nocmodl\" ProbAMPANMDA_EMS\n",
      "Translating ProbAMPANMDA_EMS.mod into ProbAMPANMDA_EMS.c\n",
      "Notice: This mechanism cannot be used with CVODE\n",
      "Notice: A_AMPA discontinuity adjustment not available.\n",
      "Notice: B_AMPA discontinuity adjustment not available.\n",
      "Notice: A_NMDA discontinuity adjustment not available.\n",
      "Notice: B_NMDA discontinuity adjustment not available.\n",
      "Warning: dt undefined. (declared within VERBATIM?)\n",
      "Warning: value undefined. (declared within VERBATIM?)\n",
      "Thread Safe\n",
      "\"/home/cremones/soft/nrn/install/share/nrn/libtool\" --tag=CC --mode=compile mpicc -DHAVE_CONFIG_H  -I. -I.. -I\"/home/cremones/soft/nrn/install/include/nrn\" -I\"/home/cremones/soft/nrn/install/x86_64/lib\"      -g -O2 -c -o ProbAMPANMDA_EMS.lo ProbAMPANMDA_EMS.c\n",
      "libtool: compile:  mpicc -DHAVE_CONFIG_H -I. -I.. -I/home/cremones/soft/nrn/install/include/nrn -I/home/cremones/soft/nrn/install/x86_64/lib -g -O2 -c ProbAMPANMDA_EMS.c  -fPIC -DPIC -o .libs/ProbAMPANMDA_EMS.o\n",
      "\"/home/cremones/soft/nrn/install/x86_64/bin/nocmodl\" SK\n",
      "Translating SK.mod into SK.c\n",
      "Thread Safe\n",
      "\"/home/cremones/soft/nrn/install/share/nrn/libtool\" --tag=CC --mode=compile mpicc -DHAVE_CONFIG_H  -I. -I.. -I\"/home/cremones/soft/nrn/install/include/nrn\" -I\"/home/cremones/soft/nrn/install/x86_64/lib\"      -g -O2 -c -o SK.lo SK.c\n",
      "libtool: compile:  mpicc -DHAVE_CONFIG_H -I. -I.. -I/home/cremones/soft/nrn/install/include/nrn -I/home/cremones/soft/nrn/install/x86_64/lib -g -O2 -c SK.c  -fPIC -DPIC -o .libs/SK.o\n",
      "\"/home/cremones/soft/nrn/install/share/nrn/libtool\" --tag=CC --mode=compile mpicc -DHAVE_CONFIG_H  -I. -I.. -I\"/home/cremones/soft/nrn/install/include/nrn\" -I\"/home/cremones/soft/nrn/install/x86_64/lib\"      -g -O2 -c -o mod_func.lo mod_func.c\n",
      "libtool: compile:  mpicc -DHAVE_CONFIG_H -I. -I.. -I/home/cremones/soft/nrn/install/include/nrn -I/home/cremones/soft/nrn/install/x86_64/lib -g -O2 -c mod_func.c  -fPIC -DPIC -o .libs/mod_func.o\n",
      "\"/home/cremones/soft/nrn/install/share/nrn/libtool\" --tag=CC --mode=link mpicc -module  -g -O2    -o libnrnmech.la -rpath \"/home/cremones/soft/nrn/install/x86_64/lib\"  CaDynamics.lo Ca_HVA.lo Ca_LVA.lo Ih.lo Im.lo Im_v2.lo Kd.lo K_P.lo K_T.lo Kv2like.lo Kv3_1.lo Nap.lo NaTa.lo NaTs.lo NaV.lo ProbAMPANMDA_EMS.lo SK.lo mod_func.lo  -L\"/home/cremones/soft/nrn/install/x86_64/lib\" -lnrnoc -loc -lmemacs -lnrnmpi -lscopmath -lsparse13 -lreadline -lncurses -L\"/home/cremones/soft/nrn/install/x86_64/lib\" \"/home/cremones/soft/nrn/install/x86_64/lib/libnrniv.la\" -livoc -lneuron_gnu -lmeschach -lsundials -livos      -lm -ldl\n",
      "libtool: link: mpicc -shared  -fPIC -DPIC  .libs/CaDynamics.o .libs/Ca_HVA.o .libs/Ca_LVA.o .libs/Ih.o .libs/Im.o .libs/Im_v2.o .libs/Kd.o .libs/K_P.o .libs/K_T.o .libs/Kv2like.o .libs/Kv3_1.o .libs/Nap.o .libs/NaTa.o .libs/NaTs.o .libs/NaV.o .libs/ProbAMPANMDA_EMS.o .libs/SK.o .libs/mod_func.o   -Wl,-rpath -Wl,/home/cremones/soft/nrn/install/x86_64/lib -Wl,-rpath -Wl,/home/cremones/soft/nrn/install/x86_64/lib -L/home/cremones/soft/nrn/install/x86_64/lib /home/cremones/soft/nrn/install/x86_64/lib/libnrnoc.so /home/cremones/soft/nrn/install/x86_64/lib/liboc.so /home/cremones/soft/nrn/install/x86_64/lib/libmemacs.so /home/cremones/soft/nrn/install/x86_64/lib/libnrnmpi.so /home/cremones/soft/nrn/install/x86_64/lib/libscopmath.so /home/cremones/soft/nrn/install/x86_64/lib/libsparse13.so -lreadline -lncurses /home/cremones/soft/nrn/install/x86_64/lib/libnrniv.so /home/cremones/soft/nrn/install/x86_64/lib/libivoc.so /home/cremones/soft/nrn/install/x86_64/lib/libneuron_gnu.so /home/cremones/soft/nrn/install/x86_64/lib/libmeschach.so /home/cremones/soft/nrn/install/x86_64/lib/libsundials.so /home/cremones/soft/nrn/install/x86_64/lib/libivos.so -lm -ldl  -g -O2   -Wl,-soname -Wl,libnrnmech.so.0 -o .libs/libnrnmech.so.0.0.0\n",
      "libtool: link: (cd \".libs\" && rm -f \"libnrnmech.so.0\" && ln -s \"libnrnmech.so.0.0.0\" \"libnrnmech.so.0\")\n",
      "libtool: link: (cd \".libs\" && rm -f \"libnrnmech.so\" && ln -s \"libnrnmech.so.0.0.0\" \"libnrnmech.so\")\n",
      "libtool: link: ( cd \".libs\" && rm -f \"libnrnmech.la\" && ln -s \"../libnrnmech.la\" \"libnrnmech.la\" )\n",
      "Successfully created x86_64/special\n"
     ]
    }
   ],
   "source": [
    "! nrnivmodl modfiles"
   ]
  },
  {
   "cell_type": "markdown",
   "metadata": {},
   "source": [
    "### 4. Definition of simulation parameters"
   ]
  },
  {
   "cell_type": "code",
   "execution_count": 30,
   "metadata": {
    "collapsed": true
   },
   "outputs": [],
   "source": [
    "import neuron\n",
    "from neuron import h,gui\n",
    "import matplotlib.pyplot as plt\n",
    "%matplotlib inline\n",
    "import sys\n",
    "import numpy as np"
   ]
  },
  {
   "cell_type": "code",
   "execution_count": 31,
   "metadata": {},
   "outputs": [],
   "source": [
    "sys.path.append(os.getcwd())\n",
    "from neuron472300877 import Neuron472300877 as Cell"
   ]
  },
  {
   "cell_type": "code",
   "execution_count": 32,
   "metadata": {
    "collapsed": true
   },
   "outputs": [],
   "source": [
    "junction_potential = -14.0\n",
    "h.tstop = 550\n",
    "h.celsius = 34.0"
   ]
  },
  {
   "cell_type": "code",
   "execution_count": 67,
   "metadata": {},
   "outputs": [],
   "source": [
    "cell = Cell()"
   ]
  },
  {
   "cell_type": "code",
   "execution_count": 69,
   "metadata": {
    "collapsed": true
   },
   "outputs": [],
   "source": [
    "# setup recording\n",
    "n_rec = 1\n",
    "t = h.Vector()\n",
    "t.record(h._ref_t)\n",
    "rec_vec = []\n",
    "for i in range(n_rec):\n",
    "    rec_vec.append( h.Vector() )\n",
    "    rec_vec[-1].record(cell.soma[i](0.5)._ref_v)"
   ]
  },
  {
   "cell_type": "markdown",
   "metadata": {},
   "source": [
    "### 5. Place some synapses at random dendritic locations"
   ]
  },
  {
   "cell_type": "code",
   "execution_count": 70,
   "metadata": {
    "collapsed": true
   },
   "outputs": [],
   "source": [
    "synlist = []\n",
    "NSYN = 10"
   ]
  },
  {
   "cell_type": "code",
   "execution_count": 71,
   "metadata": {
    "collapsed": true
   },
   "outputs": [],
   "source": [
    "for i in range(NSYN):\n",
    "    target = np.random.randint(len(cell.dend))\n",
    "    synlist.append( h.ProbAMPANMDA_EMS(0.5, sec=cell.dend[target]) )"
   ]
  },
  {
   "cell_type": "code",
   "execution_count": 72,
   "metadata": {
    "collapsed": true
   },
   "outputs": [],
   "source": [
    "stimlist = []\n",
    "NSTIM = NSYN"
   ]
  },
  {
   "cell_type": "markdown",
   "metadata": {},
   "source": [
    "### 6. Define how to stimulate those synapses"
   ]
  },
  {
   "cell_type": "code",
   "execution_count": 73,
   "metadata": {
    "collapsed": true
   },
   "outputs": [],
   "source": [
    "for i in range(NSTIM):\n",
    "    stim = h.NetStim()\n",
    "    stim.start = np.random.normal(20.0,2.0)\n",
    "    stim.noise = 1.0\n",
    "    stim.interval = 100.0\n",
    "    stim.number = 1e+9\n",
    "    stimlist.append(stim)"
   ]
  },
  {
   "cell_type": "code",
   "execution_count": 74,
   "metadata": {
    "collapsed": true
   },
   "outputs": [],
   "source": [
    "nclist = []\n",
    "w = 5.0"
   ]
  },
  {
   "cell_type": "code",
   "execution_count": 75,
   "metadata": {
    "collapsed": true
   },
   "outputs": [],
   "source": [
    "for syn, stim in zip(synlist[:-1], stimlist[:-1]):\n",
    "    ncstim = h.NetCon(stim, syn)\n",
    "    ncstim.delay = 1.\n",
    "    ncstim.weight[0] = w\n",
    "    nclist.append(ncstim)"
   ]
  },
  {
   "cell_type": "markdown",
   "metadata": {},
   "source": [
    "### 7. Tell NEURON we want to record from every synapse"
   ]
  },
  {
   "cell_type": "code",
   "execution_count": 91,
   "metadata": {
    "collapsed": true
   },
   "outputs": [],
   "source": [
    "t_vec = h.Vector()\n",
    "id_vec = h.Vector()\n",
    "for i in range(len(nclist)):\n",
    "    nclist[i].record(t_vec, id_vec, i)"
   ]
  },
  {
   "cell_type": "markdown",
   "metadata": {},
   "source": [
    "### 8. Initialize simulation state"
   ]
  },
  {
   "cell_type": "code",
   "execution_count": 92,
   "metadata": {},
   "outputs": [
    {
     "data": {
      "text/plain": [
       "1.0"
      ]
     },
     "execution_count": 92,
     "metadata": {},
     "output_type": "execute_result"
    }
   ],
   "source": [
    "h.v_init = -88.734330774000796\n",
    "h.init()\n",
    "h.finitialize()"
   ]
  },
  {
   "cell_type": "markdown",
   "metadata": {},
   "source": [
    "### 9. Simulate!"
   ]
  },
  {
   "cell_type": "code",
   "execution_count": 93,
   "metadata": {},
   "outputs": [
    {
     "data": {
      "text/plain": [
       "1.0"
      ]
     },
     "execution_count": 93,
     "metadata": {},
     "output_type": "execute_result"
    }
   ],
   "source": [
    "h.tstop = 100\n",
    "h.batch_run(100., 1./h.steps_per_ms)"
   ]
  },
  {
   "cell_type": "code",
   "execution_count": 102,
   "metadata": {},
   "outputs": [
    {
     "data": {
      "text/plain": [
       "[<matplotlib.lines.Line2D at 0x7f1112217550>]"
      ]
     },
     "execution_count": 102,
     "metadata": {},
     "output_type": "execute_result"
    },
    {
     "data": {
      "image/png": "[encoded data removed]",
      "text/plain": [
       "<matplotlib.figure.Figure at 0x7f11122ab7d0>"
      ]
     },
     "metadata": {},
     "output_type": "display_data"
    }
   ],
   "source": [
    "from matplotlib import gridspec\n",
    "fig = plt.figure(figsize=(12, 6)) \n",
    "gs = gridspec.GridSpec(2, 1, height_ratios=[3, 1]) \n",
    "ax0 = plt.subplot(gs[0])\n",
    "for i in range(n_rec):\n",
    "    ax0.plot(t,rec_vec[i],'-')\n",
    "ax1 = plt.subplot(gs[1])\n",
    "ax1.plot(t_vec.to_python(), id_vec.to_python(), '*')"
   ]
  },
  {
   "cell_type": "markdown",
   "metadata": {},
   "source": [
    "### 10. Change some simulation parameters\n",
    "\n",
    "Here we increase the frequency of stimulation of synapses"
   ]
  },
  {
   "cell_type": "code",
   "execution_count": 108,
   "metadata": {
    "collapsed": true
   },
   "outputs": [],
   "source": [
    "for i in range(NSTIM):\n",
    "    stimlist[i].interval = 1.0"
   ]
  },
  {
   "cell_type": "code",
   "execution_count": 109,
   "metadata": {},
   "outputs": [
    {
     "data": {
      "text/plain": [
       "1.0"
      ]
     },
     "execution_count": 109,
     "metadata": {},
     "output_type": "execute_result"
    }
   ],
   "source": [
    "h.v_init = -88.734330774000796\n",
    "h.init()\n",
    "h.finitialize()"
   ]
  },
  {
   "cell_type": "code",
   "execution_count": 110,
   "metadata": {},
   "outputs": [
    {
     "data": {
      "text/plain": [
       "1.0"
      ]
     },
     "execution_count": 110,
     "metadata": {},
     "output_type": "execute_result"
    }
   ],
   "source": [
    "h.tstop = 100\n",
    "h.batch_run(100., 1./h.steps_per_ms)"
   ]
  },
  {
   "cell_type": "code",
   "execution_count": 111,
   "metadata": {},
   "outputs": [
    {
     "data": {
      "text/plain": [
       "[<matplotlib.lines.Line2D at 0x7f1111e9bc90>]"
      ]
     },
     "execution_count": 111,
     "metadata": {},
     "output_type": "execute_result"
    },
    {
     "data": {
      "image/png": "[encoded data removed]",
      "text/plain": [
       "<matplotlib.figure.Figure at 0x7f1111f852d0>"
      ]
     },
     "metadata": {},
     "output_type": "display_data"
    }
   ],
   "source": [
    "fig = plt.figure(figsize=(12, 6)) \n",
    "gs = gridspec.GridSpec(2, 1, height_ratios=[3, 1]) \n",
    "ax0 = plt.subplot(gs[0])\n",
    "for i in range(n_rec):\n",
    "    ax0.plot(t,rec_vec[i],'-')\n",
    "ax1 = plt.subplot(gs[1])\n",
    "ax1.plot(t_vec.to_python(), id_vec.to_python(), '*')"
   ]
  },
  {
   "cell_type": "code",
   "execution_count": null,
   "metadata": {
    "collapsed": true
   },
   "outputs": [],
   "source": []
  }
 ],
 "metadata": {
  "kernelspec": {
   "display_name": "Python 2",
   "language": "python",
   "name": "python2"
  },
  "language_info": {
   "codemirror_mode": {
    "name": "ipython",
    "version": 2
   },
   "file_extension": ".py",
   "mimetype": "text/x-python",
   "name": "python",
   "nbconvert_exporter": "python",
   "pygments_lexer": "ipython2",
   "version": "2.7.12"
  }
 },
 "nbformat": 4,
 "nbformat_minor": 2
}
