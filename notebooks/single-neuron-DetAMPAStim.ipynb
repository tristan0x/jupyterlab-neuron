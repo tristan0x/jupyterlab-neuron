{
 "cells": [
  {
   "cell_type": "markdown",
   "metadata": {},
   "source": [
    "# Demonstration using NEURON + Python\n",
    "\n",
    "This jupyter notebook requires a valid installation of [NEURON](https://github.com/nrnhines/nrn) with python configured. "
   ]
  },
  {
   "cell_type": "markdown",
   "metadata": {},
   "source": [
    "### 1. Download a neuron morphology and electrical model from ModelDB\n",
    "\n",
    "\n",
    "This model is open source and provided by the Allen Brain Institute"
   ]
  },
  {
   "cell_type": "code",
   "execution_count": 1,
   "metadata": {},
   "outputs": [],
   "source": [
    "import httplib\n",
    "import requests\n",
    "import shutil\n",
    "\n",
    "def modeldb_download(model_id, fileobj):\n",
    "    \"\"\"Download model from ModelDB in ZIP format\n",
    "    \"\"\"\n",
    "    dl_url_prefix = \"https://senselab.med.yale.edu/modeldb/eavBinDown.cshtml?\"\n",
    "    dl_url = dl_url_prefix + \"o={model_id}&a=311&mime=application/zip\"\n",
    "    resp = requests.get(dl_url.format(model_id=model_id), stream=True)\n",
    "    resp.raise_for_status()\n",
    "    if resp.status_code == httplib.OK:\n",
    "        resp.raw.decode_content = True\n",
    "        shutil.copyfileobj(resp.raw, fileobj)"
   ]
  },
  {
   "cell_type": "code",
   "execution_count": 2,
   "metadata": {},
   "outputs": [],
   "source": [
    "# Download Allen Cell Types Database model in ./models directory\n",
    "import os\n",
    "try:\n",
    "    os.makedirs('/opt/src/models')\n",
    "except OSError:\n",
    "    pass\n",
    "with open('/opt/src/models/184167.zip', 'wb') as ostr:\n",
    "    modeldb_download(184167, ostr)"
   ]
  },
  {
   "cell_type": "code",
   "execution_count": 3,
   "metadata": {},
   "outputs": [
    {
     "name": "stdout",
     "output_type": "stream",
     "text": [
      "Archive:  184167.zip\r\n",
      "   creating: 472300877converted/\r\n",
      "  inflating: 472300877converted/readme.html  \r\n",
      "   creating: 472300877converted/modfiles/\r\n",
      "  inflating: 472300877converted/modfiles/Im.mod  \r\n",
      "  inflating: 472300877converted/modfiles/NaTa.mod  \r\n",
      "  inflating: 472300877converted/modfiles/K_P.mod  \r\n",
      "  inflating: 472300877converted/modfiles/Ca_HVA.mod  \r\n",
      "  inflating: 472300877converted/modfiles/NaTs.mod  \r\n",
      "  inflating: 472300877converted/modfiles/Kv3_1.mod  \r\n",
      "  inflating: 472300877converted/modfiles/K_T.mod  \r\n",
      "  inflating: 472300877converted/modfiles/Im_v2.mod  \r\n",
      "  inflating: 472300877converted/modfiles/Ca_LVA.mod  \r\n",
      "  inflating: 472300877converted/modfiles/Kv2like.mod  \r\n",
      "  inflating: 472300877converted/modfiles/NaV.mod  \r\n",
      "  inflating: 472300877converted/modfiles/SK.mod  \r\n",
      "  inflating: 472300877converted/modfiles/Kd.mod  \r\n",
      "  inflating: 472300877converted/modfiles/Nap.mod  \r\n",
      "  inflating: 472300877converted/modfiles/Ih.mod  \r\n",
      "  inflating: 472300877converted/modfiles/CaDynamics.mod  \r\n",
      "  inflating: 472300877converted/mosinit.py  \r\n",
      "  inflating: 472300877converted/morphology472300877.png  \r\n",
      "  inflating: 472300877converted/Scnn1a-Tg2-Cre_Ai14_IVSCC_-171062.06.02.01_470548707_m.swc  \r\n",
      "  inflating: 472300877converted/load_swc.py  \r\n",
      "  inflating: 472300877converted/neuron472300877.py  \r\n"
     ]
    }
   ],
   "source": [
    "! cd /opt/src/models ; unzip 184167"
   ]
  },
  {
   "cell_type": "code",
   "execution_count": 4,
   "metadata": {},
   "outputs": [],
   "source": [
    "! rm -rf /opt/src/models/AllenBrainNeuron ; mv /opt/src/models/472300877converted /opt/src/models/AllenBrainNeuron\n"
   ]
  },
  {
   "cell_type": "markdown",
   "metadata": {},
   "source": [
    "### 2. Download our special synapse model\n",
    "\n",
    "This model is very likely open source. Anyways, use with care. \n",
    "\n",
    "#### To download the model, replace `<user>` below with your username "
   ]
  },
  {
   "cell_type": "code",
   "execution_count": 5,
   "metadata": {},
   "outputs": [
    {
     "name": "stdout",
     "output_type": "stream",
     "text": [
      "Warning: Permanently added 'bbpcode.epfl.ch,192.33.211.9' (RSA) to the list of known hosts.\r",
      "\r\n",
      "Total 16285 (delta 10349), reused 16185 (delta 10349)\r\n"
     ]
    }
   ],
   "source": [
    "! git clone -q \\\n",
    "  ssh://$USER_LOGIN@bbpcode.epfl.ch/sim/neurodamus/bbp /opt/src/neurodamus"
   ]
  },
  {
   "cell_type": "code",
   "execution_count": 6,
   "metadata": {
    "collapsed": true
   },
   "outputs": [],
   "source": [
    "! cp /opt/src/neurodamus/lib/modlib/ProbAMPANMDA_EMS.mod /opt/src/models/AllenBrainNeuron/modfiles"
   ]
  },
  {
   "cell_type": "code",
   "execution_count": 7,
   "metadata": {
    "collapsed": true
   },
   "outputs": [],
   "source": [
    "os.chdir('/opt/src/models/AllenBrainNeuron')"
   ]
  },
  {
   "cell_type": "markdown",
   "metadata": {},
   "source": [
    "### 3. Generate ion channel and synapse C files for NEURON"
   ]
  },
  {
   "cell_type": "code",
   "execution_count": 8,
   "metadata": {},
   "outputs": [
    {
     "name": "stdout",
     "output_type": "stream",
     "text": [
      "Creating x86_64 directory for .o files.\r\n",
      "\r\n",
      "/opt/src/models/AllenBrainNeuron\r\n",
      "ls: cannot access 'modfiles/*.inc': No such file or directory\r\n",
      "modfiles/CaDynamics.mod modfiles/Ca_HVA.mod modfiles/Ca_LVA.mod modfiles/Ih.mod modfiles/Im.mod modfiles/Im_v2.mod modfiles/Kd.mod modfiles/K_P.mod modfiles/K_T.mod modfiles/Kv2like.mod modfiles/Kv3_1.mod modfiles/Nap.mod modfiles/NaTa.mod modfiles/NaTs.mod modfiles/NaV.mod modfiles/ProbAMPANMDA_EMS.mod modfiles/SK.mod\r\n",
      "CaDynamics.mod Ca_HVA.mod Ca_LVA.mod Ih.mod Im.mod Im_v2.mod Kd.mod K_P.mod K_T.mod Kv2like.mod Kv3_1.mod Nap.mod NaTa.mod NaTs.mod NaV.mod ProbAMPANMDA_EMS.mod SK.mod\r\n",
      "\"/opt/nrn/x86_64/bin/nocmodl\" CaDynamics\r\n",
      "Translating CaDynamics.mod into CaDynamics.c\r\n",
      "Thread Safe\r\n",
      "\"/opt/nrn/share/nrn/libtool\"  --mode=compile gcc -DHAVE_CONFIG_H  -I. -I.. -I\"/opt/nrn/include/nrn\" -I\"/opt/nrn/x86_64/lib\"      -g -O2 -c -o CaDynamics.lo CaDynamics.c\r\n",
      "libtool: compile:  gcc -DHAVE_CONFIG_H -I. -I.. -I/opt/nrn/include/nrn -I/opt/nrn/x86_64/lib -g -O2 -c CaDynamics.c  -fPIC -DPIC -o .libs/CaDynamics.o\r\n",
      "\"/opt/nrn/x86_64/bin/nocmodl\" Ca_HVA\r\n",
      "Translating Ca_HVA.mod into Ca_HVA.c\r\n",
      "Thread Safe\r\n",
      "\"/opt/nrn/share/nrn/libtool\"  --mode=compile gcc -DHAVE_CONFIG_H  -I. -I.. -I\"/opt/nrn/include/nrn\" -I\"/opt/nrn/x86_64/lib\"      -g -O2 -c -o Ca_HVA.lo Ca_HVA.c\r\n",
      "libtool: compile:  gcc -DHAVE_CONFIG_H -I. -I.. -I/opt/nrn/include/nrn -I/opt/nrn/x86_64/lib -g -O2 -c Ca_HVA.c  -fPIC -DPIC -o .libs/Ca_HVA.o\r\n",
      "\"/opt/nrn/x86_64/bin/nocmodl\" Ca_LVA\r\n",
      "Translating Ca_LVA.mod into Ca_LVA.c\r\n",
      "Thread Safe\r\n",
      "\"/opt/nrn/share/nrn/libtool\"  --mode=compile gcc -DHAVE_CONFIG_H  -I. -I.. -I\"/opt/nrn/include/nrn\" -I\"/opt/nrn/x86_64/lib\"      -g -O2 -c -o Ca_LVA.lo Ca_LVA.c\r\n",
      "libtool: compile:  gcc -DHAVE_CONFIG_H -I. -I.. -I/opt/nrn/include/nrn -I/opt/nrn/x86_64/lib -g -O2 -c Ca_LVA.c  -fPIC -DPIC -o .libs/Ca_LVA.o\r\n",
      "\"/opt/nrn/x86_64/bin/nocmodl\" Ih\r\n",
      "Translating Ih.mod into Ih.c\r\n",
      "Thread Safe\r\n",
      "\"/opt/nrn/share/nrn/libtool\"  --mode=compile gcc -DHAVE_CONFIG_H  -I. -I.. -I\"/opt/nrn/include/nrn\" -I\"/opt/nrn/x86_64/lib\"      -g -O2 -c -o Ih.lo Ih.c\r\n",
      "libtool: compile:  gcc -DHAVE_CONFIG_H -I. -I.. -I/opt/nrn/include/nrn -I/opt/nrn/x86_64/lib -g -O2 -c Ih.c  -fPIC -DPIC -o .libs/Ih.o\r\n",
      "\"/opt/nrn/x86_64/bin/nocmodl\" Im\r\n",
      "Translating Im.mod into Im.c\r\n",
      "Thread Safe\r\n",
      "\"/opt/nrn/share/nrn/libtool\"  --mode=compile gcc -DHAVE_CONFIG_H  -I. -I.. -I\"/opt/nrn/include/nrn\" -I\"/opt/nrn/x86_64/lib\"      -g -O2 -c -o Im.lo Im.c\r\n",
      "libtool: compile:  gcc -DHAVE_CONFIG_H -I. -I.. -I/opt/nrn/include/nrn -I/opt/nrn/x86_64/lib -g -O2 -c Im.c  -fPIC -DPIC -o .libs/Im.o\r\n",
      "\"/opt/nrn/x86_64/bin/nocmodl\" Im_v2\r\n",
      "Translating Im_v2.mod into Im_v2.c\r\n",
      "Thread Safe\r\n",
      "\"/opt/nrn/share/nrn/libtool\"  --mode=compile gcc -DHAVE_CONFIG_H  -I. -I.. -I\"/opt/nrn/include/nrn\" -I\"/opt/nrn/x86_64/lib\"      -g -O2 -c -o Im_v2.lo Im_v2.c\r\n",
      "libtool: compile:  gcc -DHAVE_CONFIG_H -I. -I.. -I/opt/nrn/include/nrn -I/opt/nrn/x86_64/lib -g -O2 -c Im_v2.c  -fPIC -DPIC -o .libs/Im_v2.o\r\n",
      "\"/opt/nrn/x86_64/bin/nocmodl\" Kd\r\n",
      "Translating Kd.mod into Kd.c\r\n",
      "Thread Safe\r\n",
      "\"/opt/nrn/share/nrn/libtool\"  --mode=compile gcc -DHAVE_CONFIG_H  -I. -I.. -I\"/opt/nrn/include/nrn\" -I\"/opt/nrn/x86_64/lib\"      -g -O2 -c -o Kd.lo Kd.c\r\n",
      "libtool: compile:  gcc -DHAVE_CONFIG_H -I. -I.. -I/opt/nrn/include/nrn -I/opt/nrn/x86_64/lib -g -O2 -c Kd.c  -fPIC -DPIC -o .libs/Kd.o\r\n",
      "\"/opt/nrn/x86_64/bin/nocmodl\" K_P\r\n",
      "Translating K_P.mod into K_P.c\r\n",
      "Thread Safe\r\n",
      "\"/opt/nrn/share/nrn/libtool\"  --mode=compile gcc -DHAVE_CONFIG_H  -I. -I.. -I\"/opt/nrn/include/nrn\" -I\"/opt/nrn/x86_64/lib\"      -g -O2 -c -o K_P.lo K_P.c\r\n",
      "libtool: compile:  gcc -DHAVE_CONFIG_H -I. -I.. -I/opt/nrn/include/nrn -I/opt/nrn/x86_64/lib -g -O2 -c K_P.c  -fPIC -DPIC -o .libs/K_P.o\r\n",
      "\"/opt/nrn/x86_64/bin/nocmodl\" K_T\r\n",
      "Translating K_T.mod into K_T.c\r\n",
      "Thread Safe\r\n",
      "\"/opt/nrn/share/nrn/libtool\"  --mode=compile gcc -DHAVE_CONFIG_H  -I. -I.. -I\"/opt/nrn/include/nrn\" -I\"/opt/nrn/x86_64/lib\"      -g -O2 -c -o K_T.lo K_T.c\r\n",
      "libtool: compile:  gcc -DHAVE_CONFIG_H -I. -I.. -I/opt/nrn/include/nrn -I/opt/nrn/x86_64/lib -g -O2 -c K_T.c  -fPIC -DPIC -o .libs/K_T.o\r\n",
      "\"/opt/nrn/x86_64/bin/nocmodl\" Kv2like\r\n",
      "Translating Kv2like.mod into Kv2like.c\r\n",
      "Thread Safe\r\n",
      "\"/opt/nrn/share/nrn/libtool\"  --mode=compile gcc -DHAVE_CONFIG_H  -I. -I.. -I\"/opt/nrn/include/nrn\" -I\"/opt/nrn/x86_64/lib\"      -g -O2 -c -o Kv2like.lo Kv2like.c\r\n",
      "libtool: compile:  gcc -DHAVE_CONFIG_H -I. -I.. -I/opt/nrn/include/nrn -I/opt/nrn/x86_64/lib -g -O2 -c Kv2like.c  -fPIC -DPIC -o .libs/Kv2like.o\r\n",
      "\"/opt/nrn/x86_64/bin/nocmodl\" Kv3_1\r\n",
      "Translating Kv3_1.mod into Kv3_1.c\r\n",
      "Thread Safe\r\n",
      "\"/opt/nrn/share/nrn/libtool\"  --mode=compile gcc -DHAVE_CONFIG_H  -I. -I.. -I\"/opt/nrn/include/nrn\" -I\"/opt/nrn/x86_64/lib\"      -g -O2 -c -o Kv3_1.lo Kv3_1.c\r\n",
      "libtool: compile:  gcc -DHAVE_CONFIG_H -I. -I.. -I/opt/nrn/include/nrn -I/opt/nrn/x86_64/lib -g -O2 -c Kv3_1.c  -fPIC -DPIC -o .libs/Kv3_1.o\r\n",
      "\"/opt/nrn/x86_64/bin/nocmodl\" Nap\r\n",
      "Translating Nap.mod into Nap.c\r\n",
      "Thread Safe\r\n",
      "\"/opt/nrn/share/nrn/libtool\"  --mode=compile gcc -DHAVE_CONFIG_H  -I. -I.. -I\"/opt/nrn/include/nrn\" -I\"/opt/nrn/x86_64/lib\"      -g -O2 -c -o Nap.lo Nap.c\r\n",
      "libtool: compile:  gcc -DHAVE_CONFIG_H -I. -I.. -I/opt/nrn/include/nrn -I/opt/nrn/x86_64/lib -g -O2 -c Nap.c  -fPIC -DPIC -o .libs/Nap.o\r\n",
      "\"/opt/nrn/x86_64/bin/nocmodl\" NaTa\r\n",
      "Translating NaTa.mod into NaTa.c\r\n",
      "Thread Safe\r\n",
      "\"/opt/nrn/share/nrn/libtool\"  --mode=compile gcc -DHAVE_CONFIG_H  -I. -I.. -I\"/opt/nrn/include/nrn\" -I\"/opt/nrn/x86_64/lib\"      -g -O2 -c -o NaTa.lo NaTa.c\r\n",
      "libtool: compile:  gcc -DHAVE_CONFIG_H -I. -I.. -I/opt/nrn/include/nrn -I/opt/nrn/x86_64/lib -g -O2 -c NaTa.c  -fPIC -DPIC -o .libs/NaTa.o\r\n",
      "\"/opt/nrn/x86_64/bin/nocmodl\" NaTs\r\n",
      "Translating NaTs.mod into NaTs.c\r\n",
      "Thread Safe\r\n",
      "\"/opt/nrn/share/nrn/libtool\"  --mode=compile gcc -DHAVE_CONFIG_H  -I. -I.. -I\"/opt/nrn/include/nrn\" -I\"/opt/nrn/x86_64/lib\"      -g -O2 -c -o NaTs.lo NaTs.c\r\n",
      "libtool: compile:  gcc -DHAVE_CONFIG_H -I. -I.. -I/opt/nrn/include/nrn -I/opt/nrn/x86_64/lib -g -O2 -c NaTs.c  -fPIC -DPIC -o .libs/NaTs.o\r\n",
      "\"/opt/nrn/x86_64/bin/nocmodl\" NaV\r\n",
      "Translating NaV.mod into NaV.c\r\n",
      "NEURON's CVode method ignores conservation\r\n",
      "Notice: LINEAR is not thread safe.\r\n",
      "\"/opt/nrn/share/nrn/libtool\"  --mode=compile gcc -DHAVE_CONFIG_H  -I. -I.. -I\"/opt/nrn/include/nrn\" -I\"/opt/nrn/x86_64/lib\"      -g -O2 -c -o NaV.lo NaV.c\r\n",
      "libtool: compile:  gcc -DHAVE_CONFIG_H -I. -I.. -I/opt/nrn/include/nrn -I/opt/nrn/x86_64/lib -g -O2 -c NaV.c  -fPIC -DPIC -o .libs/NaV.o\r\n",
      "\"/opt/nrn/x86_64/bin/nocmodl\" ProbAMPANMDA_EMS\r\n",
      "Translating ProbAMPANMDA_EMS.mod into ProbAMPANMDA_EMS.c\r\n",
      "Notice: This mechanism cannot be used with CVODE\r\n",
      "Notice: A_AMPA discontinuity adjustment not available.\r\n",
      "Notice: B_AMPA discontinuity adjustment not available.\r\n",
      "Notice: A_NMDA discontinuity adjustment not available.\r\n",
      "Notice: B_NMDA discontinuity adjustment not available.\r\n",
      "Warning: dt undefined. (declared within VERBATIM?)\r\n",
      "Warning: value undefined. (declared within VERBATIM?)\r\n",
      "Thread Safe\r\n",
      "\"/opt/nrn/share/nrn/libtool\"  --mode=compile gcc -DHAVE_CONFIG_H  -I. -I.. -I\"/opt/nrn/include/nrn\" -I\"/opt/nrn/x86_64/lib\"      -g -O2 -c -o ProbAMPANMDA_EMS.lo ProbAMPANMDA_EMS.c\r\n",
      "libtool: compile:  gcc -DHAVE_CONFIG_H -I. -I.. -I/opt/nrn/include/nrn -I/opt/nrn/x86_64/lib -g -O2 -c ProbAMPANMDA_EMS.c  -fPIC -DPIC -o .libs/ProbAMPANMDA_EMS.o\r\n",
      "\"/opt/nrn/x86_64/bin/nocmodl\" SK\r\n",
      "Translating SK.mod into SK.c\r\n",
      "Thread Safe\r\n",
      "\"/opt/nrn/share/nrn/libtool\"  --mode=compile gcc -DHAVE_CONFIG_H  -I. -I.. -I\"/opt/nrn/include/nrn\" -I\"/opt/nrn/x86_64/lib\"      -g -O2 -c -o SK.lo SK.c\r\n",
      "libtool: compile:  gcc -DHAVE_CONFIG_H -I. -I.. -I/opt/nrn/include/nrn -I/opt/nrn/x86_64/lib -g -O2 -c SK.c  -fPIC -DPIC -o .libs/SK.o\r\n",
      "\"/opt/nrn/share/nrn/libtool\"  --mode=compile gcc -DHAVE_CONFIG_H  -I. -I.. -I\"/opt/nrn/include/nrn\" -I\"/opt/nrn/x86_64/lib\"      -g -O2 -c -o mod_func.lo mod_func.c\r\n",
      "libtool: compile:  gcc -DHAVE_CONFIG_H -I. -I.. -I/opt/nrn/include/nrn -I/opt/nrn/x86_64/lib -g -O2 -c mod_func.c  -fPIC -DPIC -o .libs/mod_func.o\r\n",
      "\"/opt/nrn/share/nrn/libtool\"  --mode=link gcc -module  -g -O2    -o libnrnmech.la -rpath \"/opt/nrn/x86_64/lib\"  CaDynamics.lo Ca_HVA.lo Ca_LVA.lo Ih.lo Im.lo Im_v2.lo Kd.lo K_P.lo K_T.lo Kv2like.lo Kv3_1.lo Nap.lo NaTa.lo NaTs.lo NaV.lo ProbAMPANMDA_EMS.lo SK.lo mod_func.lo  -L\"/opt/nrn/x86_64/lib\" -lnrnoc -loc -lmemacs -lnrnmpi -lscopmath -lsparse13 -lreadline -lncurses -L\"/opt/nrn/x86_64/lib\" \"/opt/nrn/x86_64/lib/libnrniv.la\" -livoc -lneuron_gnu -lmeschach -lsundials -livos      -lm -ldl\r\n",
      "libtool: link: gcc -shared  -fPIC -DPIC  .libs/CaDynamics.o .libs/Ca_HVA.o .libs/Ca_LVA.o .libs/Ih.o .libs/Im.o .libs/Im_v2.o .libs/Kd.o .libs/K_P.o .libs/K_T.o .libs/Kv2like.o .libs/Kv3_1.o .libs/Nap.o .libs/NaTa.o .libs/NaTs.o .libs/NaV.o .libs/ProbAMPANMDA_EMS.o .libs/SK.o .libs/mod_func.o   -Wl,-rpath -Wl,/opt/nrn/x86_64/lib -Wl,-rpath -Wl,/opt/nrn/x86_64/lib -L/opt/nrn/x86_64/lib /opt/nrn/x86_64/lib/libnrnoc.so /opt/nrn/x86_64/lib/liboc.so /opt/nrn/x86_64/lib/libmemacs.so /opt/nrn/x86_64/lib/libnrnmpi.so /opt/nrn/x86_64/lib/libscopmath.so /opt/nrn/x86_64/lib/libsparse13.so -lreadline -lncurses /opt/nrn/x86_64/lib/libnrniv.so /opt/nrn/x86_64/lib/libivoc.so /opt/nrn/x86_64/lib/libneuron_gnu.so /opt/nrn/x86_64/lib/libmeschach.so /opt/nrn/x86_64/lib/libsundials.so /opt/nrn/x86_64/lib/libivos.so -lm -ldl  -g -O2   -pthread -Wl,-soname -Wl,libnrnmech.so.0 -o .libs/libnrnmech.so.0.0.0\r\n",
      "libtool: link: (cd \".libs\" && rm -f \"libnrnmech.so.0\" && ln -s \"libnrnmech.so.0.0.0\" \"libnrnmech.so.0\")\r\n",
      "libtool: link: (cd \".libs\" && rm -f \"libnrnmech.so\" && ln -s \"libnrnmech.so.0.0.0\" \"libnrnmech.so\")\r\n",
      "libtool: link: ( cd \".libs\" && rm -f \"libnrnmech.la\" && ln -s \"../libnrnmech.la\" \"libnrnmech.la\" )\r\n",
      "Successfully created x86_64/special\r\n"
     ]
    }
   ],
   "source": [
    "! nrnivmodl modfiles"
   ]
  },
  {
   "cell_type": "markdown",
   "metadata": {},
   "source": [
    "### 4. Definition of simulation parameters"
   ]
  },
  {
   "cell_type": "code",
   "execution_count": 9,
   "metadata": {
    "collapsed": true
   },
   "outputs": [],
   "source": [
    "import neuron\n",
    "from neuron import h,gui\n",
    "import matplotlib.pyplot as plt\n",
    "import sys\n",
    "import numpy as np\n",
    "\n",
    "%matplotlib inline\n"
   ]
  },
  {
   "cell_type": "code",
   "execution_count": 10,
   "metadata": {},
   "outputs": [],
   "source": [
    "sys.path.append(os.getcwd())\n",
    "from neuron472300877 import Neuron472300877 as Cell"
   ]
  },
  {
   "cell_type": "code",
   "execution_count": 11,
   "metadata": {
    "collapsed": true
   },
   "outputs": [],
   "source": [
    "junction_potential = -14.0\n",
    "h.tstop = 550\n",
    "h.celsius = 34.0"
   ]
  },
  {
   "cell_type": "code",
   "execution_count": 12,
   "metadata": {},
   "outputs": [],
   "source": [
    "cell = Cell()"
   ]
  },
  {
   "cell_type": "code",
   "execution_count": 13,
   "metadata": {
    "collapsed": true
   },
   "outputs": [],
   "source": [
    "# setup recording\n",
    "n_rec = 1\n",
    "t = h.Vector()\n",
    "t.record(h._ref_t)\n",
    "rec_vec = []\n",
    "for i in range(n_rec):\n",
    "    rec_vec.append( h.Vector() )\n",
    "    rec_vec[-1].record(cell.soma[i](0.5)._ref_v)"
   ]
  },
  {
   "cell_type": "markdown",
   "metadata": {},
   "source": [
    "### 5. Place some synapses at random dendritic locations"
   ]
  },
  {
   "cell_type": "code",
   "execution_count": 14,
   "metadata": {
    "collapsed": true
   },
   "outputs": [],
   "source": [
    "synlist = []\n",
    "NSYN = 10"
   ]
  },
  {
   "cell_type": "code",
   "execution_count": 15,
   "metadata": {
    "collapsed": true
   },
   "outputs": [],
   "source": [
    "for i in range(NSYN):\n",
    "    target = np.random.randint(len(cell.dend))\n",
    "    synlist.append( h.ProbAMPANMDA_EMS(0.5, sec=cell.dend[target]) )"
   ]
  },
  {
   "cell_type": "code",
   "execution_count": 16,
   "metadata": {
    "collapsed": true
   },
   "outputs": [],
   "source": [
    "stimlist = []\n",
    "NSTIM = NSYN"
   ]
  },
  {
   "cell_type": "markdown",
   "metadata": {},
   "source": [
    "### 6. Define how to stimulate those synapses"
   ]
  },
  {
   "cell_type": "code",
   "execution_count": 17,
   "metadata": {
    "collapsed": true
   },
   "outputs": [],
   "source": [
    "for i in range(NSTIM):\n",
    "    stim = h.NetStim()\n",
    "    stim.start = np.random.normal(20.0,2.0)\n",
    "    stim.noise = 1.0\n",
    "    stim.interval = 100.0\n",
    "    stim.number = 1e+9\n",
    "    stimlist.append(stim)"
   ]
  },
  {
   "cell_type": "code",
   "execution_count": 18,
   "metadata": {
    "collapsed": true
   },
   "outputs": [],
   "source": [
    "nclist = []\n",
    "w = 5.0"
   ]
  },
  {
   "cell_type": "code",
   "execution_count": 19,
   "metadata": {
    "collapsed": true
   },
   "outputs": [],
   "source": [
    "for syn, stim in zip(synlist[:-1], stimlist[:-1]):\n",
    "    ncstim = h.NetCon(stim, syn)\n",
    "    ncstim.delay = 1.\n",
    "    ncstim.weight[0] = w\n",
    "    nclist.append(ncstim)"
   ]
  },
  {
   "cell_type": "markdown",
   "metadata": {},
   "source": [
    "### 7. Tell NEURON we want to record from every synapse"
   ]
  },
  {
   "cell_type": "code",
   "execution_count": 20,
   "metadata": {
    "collapsed": true
   },
   "outputs": [],
   "source": [
    "t_vec = h.Vector()\n",
    "id_vec = h.Vector()\n",
    "for i in range(len(nclist)):\n",
    "    nclist[i].record(t_vec, id_vec, i)"
   ]
  },
  {
   "cell_type": "markdown",
   "metadata": {},
   "source": [
    "### 8. Initialize simulation state"
   ]
  },
  {
   "cell_type": "code",
   "execution_count": 21,
   "metadata": {},
   "outputs": [
    {
     "data": {
      "text/plain": [
       "1.0"
      ]
     },
     "execution_count": 21,
     "metadata": {},
     "output_type": "execute_result"
    }
   ],
   "source": [
    "h.v_init = -88.734330774000796\n",
    "h.init()\n",
    "h.finitialize()"
   ]
  },
  {
   "cell_type": "markdown",
   "metadata": {},
   "source": [
    "### 9. Simulate!"
   ]
  },
  {
   "cell_type": "code",
   "execution_count": 22,
   "metadata": {},
   "outputs": [
    {
     "data": {
      "text/plain": [
       "1.0"
      ]
     },
     "execution_count": 22,
     "metadata": {},
     "output_type": "execute_result"
    }
   ],
   "source": [
    "h.tstop = 100\n",
    "h.batch_run(100., 1./h.steps_per_ms)"
   ]
  },
  {
   "cell_type": "code",
   "execution_count": 34,
   "metadata": {},
   "outputs": [
    {
     "data": {
      "text/plain": [
       "[<matplotlib.lines.Line2D at 0x7fe804858ad0>]"
      ]
     },
     "execution_count": 34,
     "metadata": {},
     "output_type": "execute_result"
    },
    {
     "data": {
      "image/png": "[encoded data removed]",
      "text/plain": [
       "<matplotlib.figure.Figure at 0x7fe816a2be90>"
      ]
     },
     "metadata": {},
     "output_type": "display_data"
    }
   ],
   "source": [
    "from matplotlib import gridspec\n",
    "fig = plt.figure(figsize=(12, 6)) \n",
    "gs = gridspec.GridSpec(2, 1, height_ratios=[3, 1]) \n",
    "ax0 = plt.subplot(gs[0])\n",
    "for i in range(n_rec):\n",
    "    ax0.plot(t,rec_vec[i],'-')\n",
    "ax1 = plt.subplot(gs[1])\n",
    "ax1.plot(t_vec.to_python(), id_vec.to_python(), '*')"
   ]
  },
  {
   "cell_type": "markdown",
   "metadata": {},
   "source": [
    "### 10. Change some simulation parameters\n",
    "\n",
    "Here we increase the frequency of stimulation of synapses"
   ]
  },
  {
   "cell_type": "code",
   "execution_count": 23,
   "metadata": {
    "collapsed": true
   },
   "outputs": [],
   "source": [
    "for i in range(NSTIM):\n",
    "    stimlist[i].interval = 1.0"
   ]
  },
  {
   "cell_type": "code",
   "execution_count": 24,
   "metadata": {},
   "outputs": [
    {
     "data": {
      "text/plain": [
       "1.0"
      ]
     },
     "execution_count": 24,
     "metadata": {},
     "output_type": "execute_result"
    }
   ],
   "source": [
    "h.v_init = -88.734330774000796\n",
    "h.init()\n",
    "h.finitialize()"
   ]
  },
  {
   "cell_type": "code",
   "execution_count": 25,
   "metadata": {},
   "outputs": [
    {
     "data": {
      "text/plain": [
       "1.0"
      ]
     },
     "execution_count": 25,
     "metadata": {},
     "output_type": "execute_result"
    }
   ],
   "source": [
    "h.tstop = 100\n",
    "h.batch_run(100., 1./h.steps_per_ms)"
   ]
  },
  {
   "cell_type": "code",
   "execution_count": 30,
   "metadata": {},
   "outputs": [
    {
     "data": {
      "text/plain": [
       "[<matplotlib.lines.Line2D at 0x7fe816aa61d0>]"
      ]
     },
     "execution_count": 30,
     "metadata": {},
     "output_type": "execute_result"
    },
    {
     "data": {
      "image/png": "[encoded data removed]",
      "text/plain": [
       "<matplotlib.figure.Figure at 0x7fe816cc0550>"
      ]
     },
     "metadata": {},
     "output_type": "display_data"
    }
   ],
   "source": [
    "fig = plt.figure(figsize=(12, 6)) \n",
    "gs = gridspec.GridSpec(2, 1, height_ratios=[3, 1]) \n",
    "ax0 = plt.subplot(gs[0])\n",
    "for i in range(n_rec):\n",
    "    ax0.plot(t,rec_vec[i],'-')\n",
    "ax1 = plt.subplot(gs[1])\n",
    "ax1.plot(t_vec.to_python(), id_vec.to_python(), '*')"
   ]
  },
  {
   "cell_type": "code",
   "execution_count": null,
   "metadata": {
    "collapsed": true
   },
   "outputs": [],
   "source": []
  }
 ],
 "metadata": {
  "kernelspec": {
   "display_name": "Python 2",
   "language": "python",
   "name": "python2"
  },
  "language_info": {
   "codemirror_mode": {
    "name": "ipython",
    "version": 2
   },
   "file_extension": ".py",
   "mimetype": "text/x-python",
   "name": "python",
   "nbconvert_exporter": "python",
   "pygments_lexer": "ipython2",
   "version": "2.7.13"
  }
 },
 "nbformat": 4,
 "nbformat_minor": 2
}
